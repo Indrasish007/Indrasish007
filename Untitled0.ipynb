{
  "nbformat": 4,
  "nbformat_minor": 0,
  "metadata": {
    "colab": {
      "provenance": [],
      "authorship_tag": "ABX9TyNxfnBGHTeOEyROlQoYjbhY",
      "include_colab_link": true
    },
    "kernelspec": {
      "name": "python3",
      "display_name": "Python 3"
    },
    "language_info": {
      "name": "python"
    }
  },
  "cells": [
    {
      "cell_type": "markdown",
      "metadata": {
        "id": "view-in-github",
        "colab_type": "text"
      },
      "source": [
        "<a href=\"https://colab.research.google.com/github/Indrasish007/Indrasish007/blob/main/Untitled0.ipynb\" target=\"_parent\"><img src=\"https://colab.research.google.com/assets/colab-badge.svg\" alt=\"Open In Colab\"/></a>"
      ]
    },
    {
      "cell_type": "code",
      "execution_count": 1,
      "metadata": {
        "colab": {
          "base_uri": "https://localhost:8080/"
        },
        "id": "ah5cKbzqkmYt",
        "outputId": "95adc9ac-3001-4951-8fb9-ab3422064a92"
      },
      "outputs": [
        {
          "output_type": "stream",
          "name": "stdout",
          "text": [
            "the first planet is  mars\n",
            "the second planet is  earth\n"
          ]
        }
      ],
      "source": [
        "planet1 ='earth'\n",
        "planet2 ='mars'\n",
        "planet2,planet1=planet1,planet2\n",
        "print(\"the first planet is \",planet1)\n",
        "print(\"the second planet is \",planet2)"
      ]
    }
  ]
}